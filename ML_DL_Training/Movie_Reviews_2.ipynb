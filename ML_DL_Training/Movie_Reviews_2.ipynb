{
  "nbformat": 4,
  "nbformat_minor": 0,
  "metadata": {
    "colab": {
      "name": "Movie_Reviews_2.ipynb",
      "provenance": []
    },
    "kernelspec": {
      "name": "python3",
      "display_name": "Python 3"
    },
    "accelerator": "GPU"
  },
  "cells": [
    {
      "cell_type": "code",
      "metadata": {
        "id": "uj4lI8Hdp_7z",
        "colab_type": "code",
        "outputId": "e48e33ac-6f83-4381-dcc5-813288c0a989",
        "colab": {
          "base_uri": "https://localhost:8080/",
          "height": 34
        }
      },
      "source": [
        "cd /content/drive/My Drive/Colab Notebooks/Projects/Movie Reviews Classification"
      ],
      "execution_count": 0,
      "outputs": [
        {
          "output_type": "stream",
          "text": [
            "/content/drive/My Drive/Colab Notebooks/Projects/Movie Reviews Classification\n"
          ],
          "name": "stdout"
        }
      ]
    },
    {
      "cell_type": "code",
      "metadata": {
        "id": "rxgGGx1GotYF",
        "colab_type": "code",
        "outputId": "ed57e1de-cba0-42c5-bba9-7780989f274f",
        "colab": {
          "base_uri": "https://localhost:8080/",
          "height": 72
        }
      },
      "source": [
        "import tensorflow as tf\n",
        "from tensorflow import keras\n",
        "import pandas as pd\n",
        "import matplotlib.pyplot as plt\n",
        "import seaborn as sns\n",
        "import numpy as np\n",
        "from sklearn.model_selection import train_test_split\n",
        "from tensorflow.keras.optimizers import Adam\n",
        "import re\n",
        "from tensorflow.keras.regularizers import l2\n",
        "import io\n",
        "import json"
      ],
      "execution_count": 0,
      "outputs": [
        {
          "output_type": "stream",
          "text": [
            "/usr/local/lib/python3.6/dist-packages/statsmodels/tools/_testing.py:19: FutureWarning: pandas.util.testing is deprecated. Use the functions in the public API at pandas.testing instead.\n",
            "  import pandas.util.testing as tm\n"
          ],
          "name": "stderr"
        }
      ]
    },
    {
      "cell_type": "code",
      "metadata": {
        "id": "KRVpv_DtpWmU",
        "colab_type": "code",
        "outputId": "ecaf47ce-0a77-46aa-ea22-983311f790f0",
        "colab": {
          "base_uri": "https://localhost:8080/",
          "height": 238
        }
      },
      "source": [
        "train_data = pd.read_csv(\"IMDB Dataset.csv\")\n",
        "train_data.head(6)"
      ],
      "execution_count": 0,
      "outputs": [
        {
          "output_type": "execute_result",
          "data": {
            "text/html": [
              "<div>\n",
              "<style scoped>\n",
              "    .dataframe tbody tr th:only-of-type {\n",
              "        vertical-align: middle;\n",
              "    }\n",
              "\n",
              "    .dataframe tbody tr th {\n",
              "        vertical-align: top;\n",
              "    }\n",
              "\n",
              "    .dataframe thead th {\n",
              "        text-align: right;\n",
              "    }\n",
              "</style>\n",
              "<table border=\"1\" class=\"dataframe\">\n",
              "  <thead>\n",
              "    <tr style=\"text-align: right;\">\n",
              "      <th></th>\n",
              "      <th>review</th>\n",
              "      <th>sentiment</th>\n",
              "    </tr>\n",
              "  </thead>\n",
              "  <tbody>\n",
              "    <tr>\n",
              "      <th>0</th>\n",
              "      <td>One of the other reviewers has mentioned that ...</td>\n",
              "      <td>positive</td>\n",
              "    </tr>\n",
              "    <tr>\n",
              "      <th>1</th>\n",
              "      <td>A wonderful little production. &lt;br /&gt;&lt;br /&gt;The...</td>\n",
              "      <td>positive</td>\n",
              "    </tr>\n",
              "    <tr>\n",
              "      <th>2</th>\n",
              "      <td>I thought this was a wonderful way to spend ti...</td>\n",
              "      <td>positive</td>\n",
              "    </tr>\n",
              "    <tr>\n",
              "      <th>3</th>\n",
              "      <td>Basically there's a family where a little boy ...</td>\n",
              "      <td>negative</td>\n",
              "    </tr>\n",
              "    <tr>\n",
              "      <th>4</th>\n",
              "      <td>Petter Mattei's \"Love in the Time of Money\" is...</td>\n",
              "      <td>positive</td>\n",
              "    </tr>\n",
              "    <tr>\n",
              "      <th>5</th>\n",
              "      <td>Probably my all-time favorite movie, a story o...</td>\n",
              "      <td>positive</td>\n",
              "    </tr>\n",
              "  </tbody>\n",
              "</table>\n",
              "</div>"
            ],
            "text/plain": [
              "                                              review sentiment\n",
              "0  One of the other reviewers has mentioned that ...  positive\n",
              "1  A wonderful little production. <br /><br />The...  positive\n",
              "2  I thought this was a wonderful way to spend ti...  positive\n",
              "3  Basically there's a family where a little boy ...  negative\n",
              "4  Petter Mattei's \"Love in the Time of Money\" is...  positive\n",
              "5  Probably my all-time favorite movie, a story o...  positive"
            ]
          },
          "metadata": {
            "tags": []
          },
          "execution_count": 3
        }
      ]
    },
    {
      "cell_type": "code",
      "metadata": {
        "id": "ak57JUnV-ijk",
        "colab_type": "code",
        "outputId": "4bf2cd8d-f7d5-4d59-a935-66003df6a862",
        "colab": {
          "base_uri": "https://localhost:8080/",
          "height": 295
        }
      },
      "source": [
        "train_data['review'].tail(15)"
      ],
      "execution_count": 0,
      "outputs": [
        {
          "output_type": "execute_result",
          "data": {
            "text/plain": [
              "49985    Imaginary Heroes is clearly the best film of t...\n",
              "49986    This movie is a disgrace to the Major League F...\n",
              "49987    A remake of Alejandro Amenabar's Abre los Ojos...\n",
              "49988    When I first tuned in on this morning news, I ...\n",
              "49989    I got this one a few weeks ago and love it! It...\n",
              "49990    Lame, lame, lame!!! A 90-minute cringe-fest th...\n",
              "49991    Les Visiteurs, the first movie about the medie...\n",
              "49992    John Garfield plays a Marine who is blinded by...\n",
              "49993    Robert Colomb has two full-time jobs. He's kno...\n",
              "49994    This is your typical junk comedy.<br /><br />T...\n",
              "49995    I thought this movie did a down right good job...\n",
              "49996    Bad plot, bad dialogue, bad acting, idiotic di...\n",
              "49997    I am a Catholic taught in parochial elementary...\n",
              "49998    I'm going to have to disagree with the previou...\n",
              "49999    No one expects the Star Trek movies to be high...\n",
              "Name: review, dtype: object"
            ]
          },
          "metadata": {
            "tags": []
          },
          "execution_count": 4
        }
      ]
    },
    {
      "cell_type": "markdown",
      "metadata": {
        "id": "5i77gBnrBoBG",
        "colab_type": "text"
      },
      "source": [
        "# **Data Processing**"
      ]
    },
    {
      "cell_type": "code",
      "metadata": {
        "id": "1tGZLYjMGrKK",
        "colab_type": "code",
        "colab": {}
      },
      "source": [
        "X = train_data['review']\n",
        "y = np.array(pd.get_dummies(train_data['sentiment'],drop_first=True))\n",
        "X_train,X_val,y_train,y_val = train_test_split(X,y,test_size = 0.2,random_state = 11)"
      ],
      "execution_count": 0,
      "outputs": []
    },
    {
      "cell_type": "code",
      "metadata": {
        "id": "PYDdbaresJBM",
        "colab_type": "code",
        "colab": {}
      },
      "source": [
        "train_sentences = list(X_train)\n",
        "val_sentences = list(X_val)\n",
        "\n",
        "train_labels,val_labels = np.array(y_train),np.array(y_val)"
      ],
      "execution_count": 0,
      "outputs": []
    },
    {
      "cell_type": "code",
      "metadata": {
        "id": "hxLvsL7L-6gS",
        "colab_type": "code",
        "outputId": "fb3955ca-d7d2-40df-b78b-eb5eb81cb2a5",
        "colab": {
          "base_uri": "https://localhost:8080/",
          "height": 139
        }
      },
      "source": [
        "train_labels"
      ],
      "execution_count": 0,
      "outputs": [
        {
          "output_type": "execute_result",
          "data": {
            "text/plain": [
              "array([[0],\n",
              "       [1],\n",
              "       [1],\n",
              "       ...,\n",
              "       [0],\n",
              "       [0],\n",
              "       [1]], dtype=uint8)"
            ]
          },
          "metadata": {
            "tags": []
          },
          "execution_count": 7
        }
      ]
    },
    {
      "cell_type": "code",
      "metadata": {
        "id": "HqjNHYTsxAQs",
        "colab_type": "code",
        "outputId": "fcfbaca4-b2a3-44f9-89ad-063ce96fa6e8",
        "colab": {
          "base_uri": "https://localhost:8080/",
          "height": 34
        }
      },
      "source": [
        "len(train_sentences),len(val_sentences)"
      ],
      "execution_count": 0,
      "outputs": [
        {
          "output_type": "execute_result",
          "data": {
            "text/plain": [
              "(40000, 10000)"
            ]
          },
          "metadata": {
            "tags": []
          },
          "execution_count": 8
        }
      ]
    },
    {
      "cell_type": "code",
      "metadata": {
        "id": "Qq5iEvRqgFrq",
        "colab_type": "code",
        "outputId": "573f147c-cb90-4136-9123-8f92bff3e250",
        "colab": {
          "base_uri": "https://localhost:8080/",
          "height": 72
        }
      },
      "source": [
        "id = 5\n",
        "print(train_sentences[id])\n",
        "train_labels[id]"
      ],
      "execution_count": 0,
      "outputs": [
        {
          "output_type": "stream",
          "text": [
            "Princess Victoria (Emily Blunt) is in line for the throne of England. The present King William (Jim Broadbent) is not well and may not live long. However, Vicky's scheming mother, The Duchess of Kent (Miranda Richandson) and her aide, John (Mark Strong) want to force Victoria to sign papers declaring them to be the \"regents\" until she is older, since she is only 20 years of age. The young lady refuses, despite John slapping her around. It is another sign that Victoria has a strong will and deep love for her country. Yet, when William does pass away, shortly after her 21st birthday, Victoria knows she has a heavy duty before her. First, she must surround herself with the \"right\" advisers to govern wisely. She chooses handsome Lord Melbourne (Paul Bettany) who, although an older man, is mentioned as a suitor for Vicky. Which brings us to the young queen's second major decision. Sooner than not, the young queen should select her future mate, as it will bring stability to her life and to those of the kingdom, for an heir must appear in the coming years. Meanwhile, in Germany, some distant relatives of the British royal family are hatching some plans as well. Handsome Prince Albert (Rupert Friend), of the Saxon-Coburg dynasty, is prodded by his father to court the young English royal. Once he arrives at the palace, he is smitten and the feeling seems to be mutual. But, since he is a minor player on the map of royal match-making, can he succeed in winning her heart? This is a lovely film, made even better by a completely winning performance by Emily Blunt as Victoria. Yes, she is beautiful but it is her intelligent reading of the role that scores mightily. Friend, too, does well, as do the other actors, including Broadbent, Richardson, Bettany, Strong (what a repulsive role!), and the rest. Also, the movie is gorgeously shot, costumed, and set, making it a visual treat in every way. If anything is lacking, it is an extra dose of dazzle, as the film seems a bit too straightforward and prosaic, at times, with a somewhat unimaginative edit. However, this is only a minor, minor point of argument in an overall very successful and gorgeous film. In short, young and old, should make time for Young Victoria. It is a most worthy film among 2009 cinematic offerings.\n"
          ],
          "name": "stdout"
        },
        {
          "output_type": "execute_result",
          "data": {
            "text/plain": [
              "array([1], dtype=uint8)"
            ]
          },
          "metadata": {
            "tags": []
          },
          "execution_count": 9
        }
      ]
    },
    {
      "cell_type": "markdown",
      "metadata": {
        "id": "BHHpeRFmxsQw",
        "colab_type": "text"
      },
      "source": [
        "# Data Preprocessing Part"
      ]
    },
    {
      "cell_type": "code",
      "metadata": {
        "id": "9PP7upro8BBK",
        "colab_type": "code",
        "colab": {}
      },
      "source": [
        "def clean_text(text): \n",
        "    \n",
        "    #emoji = re.compile(\"[\"\n",
        "     #                      u\"\\U0001F600-\\U0001FFFF\"  # emoticons\n",
        "     #                      u\"\\U0001F300-\\U0001F5FF\"  # symbols & pictographs\n",
        "      #                     u\"\\U0001F680-\\U0001F6FF\"  # transport & map symbols\n",
        "       #                    u\"\\U0001F1E0-\\U0001F1FF\"  # flags (iOS)\n",
        "        #                   u\"\\U00002702-\\U000027B0\"\n",
        "         #                  u\"\\U000024C2-\\U0001F251\"\n",
        "          #                 \"]+\", flags=re.UNICODE)    \n",
        "    #text = emoji.sub(r'', text)\n",
        "    text = text.lower()\n",
        "    text = re.sub(r\"i'm\", \"i am\", text)\n",
        "    text = re.sub(r\"books\", \"movies\", text)\n",
        "    text = re.sub(r\"book\", \"movie\", text)\n",
        "    text = re.sub(r\"read\", \"watch\", text)\n",
        "    text = re.sub(r\"pages\", \"plots\", text)\n",
        "    text = re.sub(r\"author\", \"story writer\", text)\n",
        "    text = re.sub(r\"written\", \"directed\", text)\n",
        "    text = re.sub(r\"ordered\", \"booked ticket\", text)    \n",
        "    text = re.sub(r\"reading\", \"watching\", text)\n",
        "    text = re.sub(r\"he's\", \"he is\", text)\n",
        "    text = re.sub(r\"she's\", \"she is\", text)\n",
        "    text = re.sub(r\"that's\", \"that is\", text)        \n",
        "    text = re.sub(r\"what's\", \"what is\", text)\n",
        "    text = re.sub(r\"where's\", \"where is\", text) \n",
        "    text = re.sub(r\"\\'ll\", \" will\", text)  \n",
        "    text = re.sub(r\"\\'ve\", \" have\", text)  \n",
        "    text = re.sub(r\"\\'re\", \" are\", text)\n",
        "    text = re.sub(r\"\\'d\", \" would\", text)\n",
        "    text = re.sub(r\"\\'ve\", \" have\", text)\n",
        "    text = re.sub(r\"won't\", \"will not\", text)\n",
        "    text = re.sub(r\"don't\", \"do not\", text)\n",
        "    text = re.sub(r\"did't\", \"did not\", text)\n",
        "    text = re.sub(r\"can't\", \"can not\", text)\n",
        "    text = re.sub(r\"it's\", \"it is\", text)\n",
        "    text = re.sub(r\"couldn't\", \"could not\", text)\n",
        "    text = re.sub(r\"have't\", \"have not\", text)\n",
        "    text = re.sub(r\"[,.\\\"\\'!@#$%^&*(){}?/;`~:<>+=-]\", \"\", text)\n",
        "    return text"
      ],
      "execution_count": 0,
      "outputs": []
    },
    {
      "cell_type": "code",
      "metadata": {
        "id": "jdAygQbf8C5t",
        "colab_type": "code",
        "colab": {}
      },
      "source": [
        "def CleanTokenize(l):\n",
        "    cleaned_sentences = []   \n",
        "    for line in l:\n",
        "        line = clean_text(str(line))               \n",
        "        cleaned_sentences.append(line)\n",
        "    return cleaned_sentences\n",
        "\n",
        "\n",
        "train_sentences = CleanTokenize(train_sentences)\n",
        "val_sentences = CleanTokenize(val_sentences)"
      ],
      "execution_count": 0,
      "outputs": []
    },
    {
      "cell_type": "code",
      "metadata": {
        "id": "J38raqx4alOC",
        "colab_type": "code",
        "outputId": "8b8cff00-6f73-4938-bf65-e5e839b4b8e2",
        "colab": {
          "base_uri": "https://localhost:8080/",
          "height": 384
        }
      },
      "source": [
        "train_sentences[:20]"
      ],
      "execution_count": 0,
      "outputs": [
        {
          "output_type": "execute_result",
          "data": {
            "text/plain": [
              "['painful painful is the only word to describe this awful rendition of such a fun and interesting shakespearean play i gave it a shot but was terribly disappointed and could not bare to even finish viewing it to the person who wrote a novel about how wonderful this twist of much ado was i pity you and your bored brain may your pretenses about young viewers be lifted without retribution please do not even bother with this gut wrenching disgusting excuse for a performance of an acclaimed shakespeare drama you will be forced to induce vomiting and will require a commode close to the television with which you choose to watch this crap because involuntary defecation will take place',\n",
              " 'this is a cute little french silent comedy about a man who bets another that he can not stay in this castle for one hour due to its being haunted and once the guy enters the house it looks much more like a crazed fun house or maybe like the aftereffects of lsd while there are ghosts and skeletons there is a weird menagerie of animals odd special effects and gags as well it is awfully hard to describe but the visuals alone make the film worth seeing however understand that the selfindulgent director also had many funny gags that totally fell flat and hurt the movie his camera tricks werent so much tricky but annoying and stupid ignore these and keep watchingit does get better the film is fast paced funny and worth seeing in particular i really liked watching the acting and mugging of max linderhe was so expressive and funny too bad he is virtually forgotten today for an interesting but very sad watch check out the imdb biography on him',\n",
              " 'i loved this show when it aired on television and was crushed when i found out that someone somewhere decided that it wasnt worthy of being continued for years i hung onto my copies of this show ones that i had taped or had someone tape for me that is until now the powers that be finally decided to release this beautiful series on dvd and i finally was able to get my eager little hands on the complete set which brings me to this part the part about that this show is all aboutbr br american gothic is about good verses evil basically a struggle between lucas buck that is buck with a b he is an evil sheriff of a south carolina small town that runs things the way he wants things to be ran and stops at nothing to get his waybr br i felt the show was wonderfully directed and directed and had lots of life left yet to be lived i really hated when it was canceled but that is the way it seems to go for me when i finally find something worth watching on televisionbr br gary cole did a great job as the role of sheriff lucas buck he has just the right amount of charm verses evil to pull it off the other actors did a super job as well so i guess you could say even the casting was a hit with me',\n",
              " 'it pains me to write such a scathing review but by not doing so i am simply encouraging these people first off just because a film is made on a small budget does not automatically make it good nor endearing in fact in this case the small budget is probably the films sole achievement in that it prevented large sums of money from being squandered on a one legged race horse with the shits have you ever seen a comedy at the theatre ever heard people laugh and thought what the dickens are you on well even these twats werent laughing things got so bad by mid way my cat took his first ever bath this is not film this is childrenno monkeys making images that leave you feeling like moving to france got to go theres a clown at my door',\n",
              " 'stairway to heaven is a outstanding invention of movie making probably never duplicated i rank it with the wizard of oz and african queen although it is a totally different type of movie than african queen stairway to heaven is a psychodrama that uses performance concepts and technical effects that to my knowledge are totally unique br br for example there is the combination of bw and color footage  as in oz but the significance of the contrast goes way beyond the simple  but beautiful  effect achieved in oz in stairway the purpose and effect of the contrast can only be described as powerfulbr br another brilliant aspect of stairway is the concept of time and how it is used here how could anybody have conceived of a better way to make time stand still \\x96 literally and then there is the stairway itselfbr br if you have any imagination at all you will agree with me stairway to heaven is a true gem',\n",
              " 'princess victoria emily blunt is in line for the throne of england the present king william jim broadbent is not well and may not live long however vickys scheming mother the duchess of kent miranda richandson and her aide john mark strong want to force victoria to sign papers declaring them to be the regents until she is older since she is only 20 years of age the young lady refuses despite john slapping her around it is another sign that victoria has a strong will and deep love for her country yet when william does pass away shortly after her 21st birthday victoria knows she has a heavy duty before her first she must surround herself with the right advisers to govern wisely she chooses handsome lord melbourne paul bettany who although an older man is mentioned as a suitor for vicky which brings us to the young queens second major decision sooner than not the young queen should select her future mate as it will bring stability to her life and to those of the kingdom for an heir must appear in the coming years meanwhile in germany some distant relatives of the british royal family are hatching some plans as well handsome prince albert rupert friend of the saxoncoburg dynasty is prodded by his father to court the young english royal once he arrives at the palace he is smitten and the feeling seems to be mutual but since he is a minor player on the map of royal matchmaking can he succeed in winning her heart this is a lovely film made even better by a completely winning performance by emily blunt as victoria yes she is beautiful but it is her intelligent watching of the role that scores mightily friend too does well as do the other actors including broadbent richardson bettany strong what a repulsive role and the rest also the movie is gorgeously shot costumed and set making it a visual treat in every way if anything is lacking it is an extra dose of dazzle as the film seems a bit too straightforward and prosaic at times with a somewhat unimaginative edit however this is only a minor minor point of argument in an overall very successful and gorgeous film in short young and old should make time for young victoria it is a most worthy film among 2009 cinematic offerings',\n",
              " 'i have seen this film on sky cinema not too long ago i must admit it was a really good western which features 2 of the big names on one side theres charlton heston playing the infamous and retired lawman samuel burgade on the other the late james coburn playing the villainous zach provo seeking revenge on burgade no matter what the costbr br the good thing about this film was there was some really good characters most of the actors played it out really well especially james coburn who i find that he was really mean in this film but that how it wasbr br christopher mitchum who i have seen everywhere in other films playing hal brickman i felt his character was left out in the cold but he manage to get himself back in by teaming up with burgade to bring down provos possesbr br all in all it was a great film very good to watch great score from the late jerry goldsmithbr br wonderful piece of western persona 8 out of 10',\n",
              " 'i hate this movie it is a horrid movie sean youngs character is completely unsympathetic her performance is wooden at best the storyline is completely predictable and completely uninteresting i would never recommend this film to anyone it is one of the worst movies i have ever had the misfortune to see',\n",
              " 'this new installment to the childs play series has not one scary scene but tons of hilarious jokes such as a stoner witnessing chucky giveing him the finger and saying rude fking doll and lots of references to the series you can kill me but i will come back i always come back the movies title was probably thought of before the script and was directed around it this is totally different from all other films in the series it doesnt even have andy the central character for all the previous ones chucky seems to interfere with characters from another movie a soap opera about two teens running off together to get married there is one cool elaborate death scene involving broken glass and water spilling everywhere the movie is very gory very funny and has pop culture references from martha stewert to jerry springer do not see this one before you see the other three it will really ruin the effect since the first one is truly scary lots of guilty pleasure fun and silliness br br ',\n",
              " 'this movie was a complete waste of time the soundtrack was bad story was lame and predictable and the acting was terrible one of the worst 25 movies i have ever seen after the first ten minutes the rest of the film was completely obvious',\n",
              " 'suggesting nothing less than a movielength version of the 1970s tv hit love american style decked out with flashes of nudity superchick 1973 is a lighthearted piece of fluff that somehow still manages to entertain and the lead character here tara b true really is some kind of superchick a stewardess not flight attendant whos so goodlooking that even her planes autopilot has made a pass at her  and with a hunky boyfriend in every port this wingin swingin gal really does put the lay in layover what with her germaphobe surgeon beau in new york her playboy with gangster problems in miami and her creatively challenged rock star dude in la tara sure does keep busy and when she is not draining these guys of all their manly energies as the viewer learns she is liable to be taking a karate class milehigh clubbing fending off flashers and rapists attending groovy pot parties and stopping a hijacking attempt on her airplane as i said lighthearted fun and surely good for a night when you are feeling somewhat braindead and just want to veg out in front of the tube future astrologist joyce jillson does bring some vacuous charm to her role as tara and the film looks handsome enough to please disappointingly buxom 70s faves uschi digard and mary gavin aka candy samples are wasted here in very small roles but still get to do what they do bestshow off their chesticles though the picture is never laffoutloud funny and doesnt really have many thoughts in its metaphorical head it does succeed in being consistently amusing and i suppose that is something strange that the end credits should call attention to ms jillsons body double however do not think i have ever seen that before',\n",
              " 'four porn stars romping through the irish woods sounds like a film to watch we have ginger lynn allen chasey lain taylor hayes and jenna jameson all together in one film are you licking your lips well the mutant creatures who resulted from centuries of inbreeding were certainly licking their lips as they feasted on the entrails of their victimsbr br yes there was some flesh exposed  far too little considering the cast  but it was soon ripped open to expose dinner for these creatures there was definitely some action that probably has not been seen before and more than one person lost their head in the situationbr br unfortunately director christian viel did not show much promise and i am not likely to watch his later efforts',\n",
              " 'one should have the right to expect from people who make a film about the second coming and the third testament that they had watch the other two or at least knew a little more about them than miracles and judgement day this film contains absolutely nothing of relevance for viewers who are interested in jesus religion or philosophy  there is only the standard british social realism with guttural dialects and plump characters in pubsbr br actually good candidates for a real third testament have been published several times  like a course in miracles or conversations with god they all have thoughtprovoking new twists and angles for christian faith and theologybr br the most interesting information in imdbs rating is not the number of stars but how many people who have bothered to vote in four years only 387 people have bothered to vote for this film as usual the enthusiasts are the most eager for comparison have a look at jesus christ superstar  original version from 1973',\n",
              " 'the perverts guide to cinema 2007  br br if loving cinema makes me a pervert so be itbr br if you are a true moviefreak like me then i am sure you can not get enough of films about filmmaking and i do not mean necessarily the dry documentary know and then i mean a total discourse on the film viewing experience well if that is the case have i got a lulu of a film experiment for youbr br in sophie fiennes sister of ralph  joseph if you were wondering has noted philosopher cum cinephile slavoj zizek give his analysis on cinema with some impressive and often outrageous takes on everything from the silent era of chaplin thru the modern age of the wachowski brothers analyzing probing and pontificating about the psychosexual underpinnings socioeconomic political and of course indefinable magic of the film going experience with his unflagging determined and nearfrenetic dissertations to go from explaining how the bates house in psycho is actually the mirrored psyche of the conflicted norman bates with each level as his ego superego  id is one thing but then to suggest the same thing about each marx brother in barely a beat is a remarkable test of faith that wins over the skeptic laymanbr br although i had no idea who zizek was \\x96 he resembles a hybrid of filmmaker brian depalma european actor rade serbedzija and the hyperkinetic energy of filmmakers quentin tarantino and martin scorsese \\x96 with his sibilant tongue and passion the host comes across as a mad prophet br br fiennes cleverly inserts zizek into several of the film clips backgrounds peppered throughout making for a humorous tone but still lets the ranting and raving continue full throttle giving pause for argument in three acts covering the gamut of films by the likes of kubrick lynch hitchcock and films as diverse as the wizard of oz the red shoes and fight club br br theres something for everyone and if one man can provoke an argument or at least a reason to discuss a films themes \\x96 even if they are freudianjungian to a fault \\x96 then i say this collection of film theory is worth the watch seek it out now if you can before it comes to home video it is the only way to appreciate it',\n",
              " 'well how was i suppose to know this was the dumb ass promotional lordi motion picture i mean i realized this when that dinosaur costume showed up and by the time the lead singer made his appearance i was humming hard rock hallelujah to myself even though i hate that song dark floors is about a young autistic girl who is in the process of being sneaked out of the hospital by her over protective father when they and the rest of the people in that particular elevator become momentarily trapped when they arrive at their floor it comes as quite a surprise to find that there is nobody else around the hospital is empty except for a variety of monsters that seem to be stalking them for no apparent reason they run through the hallways and stairwells encountering all of the band members of the heavy metal band in their outlandish shockrock costumes nothing really memorable here except the lousy acting lack of gorenudity and the utterly shameless promotional edge reminding me very much of kiss meet the phantom of the park yeah remember that dud wish i didnt i would just recommend avoiding all of these ghost house films like a fungus and not listen to lordi since they are a gwar ripoff band',\n",
              " 'looking for something shocking okay fine the imagery is that that is about it this film attempts to make deep connections with the audience through various symbolism and just ends up being annoying i am not quite sure if the directors purpose was to truly portray some sort of deep message to his audience or if he just sought to shock the hell out of them with gore sex and violence i am thinking that it was probably the firstbut in the failed attemptit simply ended up to be a piece of artsy garbage with lots of blood some obnoxious characters and an over reliance on religious symbolism if you are looking for some independent film to critique for its attempted use of metaphorhave at it if you are looking for a gore flick that will make you queasy and uncomfortable here you go if you are looking for a film that will irritate you to no end because you realize that in the end the message was stupidthe movie was stupid and you will never get those minutes of your life backthis is surely the film for you',\n",
              " 'the film was very outstanding despite the nc17 rating and disturbing scenes in reality things like this do happen and that is why this movie shows a lot of it it all starts with maya rosario dawson in superb performance whose recently started attending college has everything going well for her she meets jared chad faust in a terrific performance at a frat party who turns out to be a real gentleman and sweet he invites her out to dinner they look at the stars from a bridge and they end going to his apartment they talk and takes her to the basement were they become flirtatious with each other she tries to put an end to it but he rapes her this incident scars her she goes to a club meets a bartenderdj adrian greatfully played by marcus patrick who sees that she is getting to drunk and helps before she goes to far they strike a friendship he also does drugs and maya starts using as well in other words introduces her to a different world she starts going back to school and working as ta teaching assistant and spots jared as one of the students while the students are taking a midterm she catches jared cheating jared tries to smooth talk maya but she still has the upper hand decides to invite him to her place will history repeat itself or will maya have a surprise for jared you watch the movie excellent a rosario dawson portrays the role with focus and endurance chad faust does not like he can be a rapist but he does a terrific job as jared marcus patrick is very brilliant the man who saves maya and coaches her into a new world this film deserves an award',\n",
              " 'in a better civilization this and many other of the david suchet movies would be released in theaters the plots are fabulous no i would no clue who had done it but the clues were all there if i would been more imaginative  the best kind of mystery the production values astounding the acting from edward fox sarah miles lysette anthony megan dodds and of course david suchet as hercule poirot simply perfect the dialogue wonderful the music and sens of suspense and tension just wonderful stuffbr br one of the pleasures of these hercule poirot movies for a man is how many beautiful women star in them here were have two  the sexy sinuous megan doods and the stunning lysette anthonybr br you really can not go wrong renting these  they are just wonderful  like the most wonderful dinner in the most wonderful restaurant with the most perfect company you can imagine  your mind constantly working because it is all there and you struggle but by keeping your mind constantly thinking can keep up with everything  and the settings gorgeousbr br i can not think of movies that stimulate thought more than these hercule poirotdavid suchet movies it is impossible to overpraise them  and i had never seen one before a few months ago nor watch an agatha christie',\n",
              " 'i can not remember many films where a bumbling idiot of a hero was so funny throughout leslie cheung is such the antithesis of a hero that he is too dense to be seduced by a gorgeous vampire i had the good luck to see it on a big screen and to find a video to watch again and again 910',\n",
              " 'dear mr ram gopal varma i do not know in which capacity i am writing this letter to you i am a neversayhe isfinished amitabh bachchan fan having sat through his cockchasing act in jaadugar i also demand some important designation in the godfather fan club having watched the coppola classic more times than you have delivered flops from your factory and of course i have been a big admirer of yours right from the time you had nagarjuna wrapping the cycle chain around his knuckles in shivabr br when you announced sarkar and called it your take on godfather all one wanted to know was the date the first look would be out the sunday the promos would go on air the friday the film would be released it was sheer wish fulfillment at work knowing that you and not someone hovering between the mustard fields of amritsar and the tulip gardens of amsterdam had taken up the task of recreating the puzo plots on the bollywood big screenbr br your cast could not have been more you \\x97 working for the first time with the legend casting abhishek as his screenson giving kay kay a role he has deserved for years bringing back forgotten faces like supriya pathak and rukhsar and picking complete nonactors like katrina and tanishaa to join the list\\x85 before july 1 you had made sarkar the mostawaited film ever for any godfather freak who worshiped bachchanbr br the opening credits stoked the hope that your stunning sepiatinted promos on the telly had kindled but now you labeled sarkar your tribute to godfather instead of the word inspired which you had been using all along probably you do not want the two creations to be compared but when the medium is the same then a kaante would be compared to reservoir dogs and a reservoir dogs to a city on firebr br also when your first and last sequences \\x97 the heart of any screenplay treatment \\x97 are all about the establishment and the transfer of power you can not keep the nagares and the corleones apart even if you replace the american mafia moves with maharashtrian political power playbr br but you got it wrong mr varma\\x85 you wanted to show amitabh in his 70s avatar as rustled up by the pens of salimjaved you wanted him to lurk around larger than life you wanted him to be his own brando then how could you steal his voice in the name of using silence how could you keep him rooted to his chair in the hunt for interesting camera angles how could you leave him stranded without his voice and stature the two things that have made his b so big coppolas godfather cameraman gordon willis masked brandos eyes throughout the movie because it didnt have the power to match that drawling husky voice or that sudden snap of the fingers but you tried to repeat the malik act from your very own company but bachchan is no ajay devgan \\x97 his forte doesnt lie in the stagnant stare and the suffocating silence you made the man look like a comatose patient whos reminded from time to time to look at the cue cards and mouth those predictable oneliners for that agneepaths there any given saturdaybr br which bachchan fan would go and watch kay kay menon stealing the thunder from under his nose in the scene where sarkar asks vishnu to leave his house which amitabh aficionado would go and watch him focus on achaar and carom in a film that talks about power with a capital p in the promos we can not handle so much in the name of restraint and understatement you do not even allow the camera to rest on him for five seconds when he learns that his son wanted to kill him give me the oldschool cameraonlyonbachchan style any given saturdaybr br kudos to you of course for making an actor out of abhishek first in naach and now in sarkar you also allow him to show mallika sherawat that he can run as well as his father even in the short prison sequence you really make the bachchans come out of the text an opportunity shaad missed in bunty aur babli wish the film could have been more a fatherson story rather than a chaotic conflict between caricatures in the name of characters who pop up like the ad windows on the internetbr br you also let the women more into the script than puzo and coppola did and again you deserve all the brownie points for squeezing them in so effectively pathak is a welcome return as the mother in the middle tanishaa lovable as the lovelorn girl katrina a revelation as abhisheks confused lover and rukhsars silence speaks volumesbr br but subplots do not a classic remake when your freeflowing camera tries to make every frame look hatke and your loud background score irritates incessantly we keep getting reminded that we are in a factory well maybe not a nino rota score but sarkar certainly deserved better than those govinda govinda chants and uncalledfor flute interludesbr br mr varma some of your factory directors tell me that you are involved with every project from overseeing the shooting schedules to supervising the editing sessions perhaps in the middle of all the various storyboards the bhiku matre scream is being muted by the subhash nagare silence perhaps you need to bring the shutters down on the factory and work on a single homemade product otherwise your products would remain products to use and throw not treasure and movie buffs like me for whom there are no hits and flops only good cinema would rather choose a film without factory finish any given saturday']"
            ]
          },
          "metadata": {
            "tags": []
          },
          "execution_count": 12
        }
      ]
    },
    {
      "cell_type": "code",
      "metadata": {
        "id": "vXeWnQEBxCPY",
        "colab_type": "code",
        "colab": {}
      },
      "source": [
        "from tensorflow.keras.preprocessing.text import Tokenizer\n",
        "from tensorflow.keras.preprocessing.sequence import pad_sequences"
      ],
      "execution_count": 0,
      "outputs": []
    },
    {
      "cell_type": "code",
      "metadata": {
        "id": "FyrmDtnTyWM5",
        "colab_type": "code",
        "colab": {}
      },
      "source": [
        "vocab_size = 10000\n",
        "embedding_dim = 300\n",
        "max_len = 150\n",
        "trunc_type = 'post'\n",
        "oov_tok = \"<oov>\"\n",
        "\n",
        "tokenizer = Tokenizer(num_words=vocab_size, oov_token=oov_tok)\n",
        "tokenizer.fit_on_texts(train_sentences)\n",
        "word_index = tokenizer.word_index\n",
        "sequences = tokenizer.texts_to_sequences(train_sentences)\n",
        "padded = pad_sequences(sequences,maxlen=max_len,padding = 'post',truncating=trunc_type)\n",
        "\n",
        "\n",
        "val_sequences = tokenizer.texts_to_sequences(val_sentences)\n",
        "val_padded = pad_sequences(val_sequences,maxlen=max_len,padding='post',truncating=trunc_type)"
      ],
      "execution_count": 0,
      "outputs": []
    },
    {
      "cell_type": "code",
      "metadata": {
        "id": "7G98t01NDpVs",
        "colab_type": "code",
        "outputId": "0d4cd4a3-f868-467f-9c37-af04c21f575a",
        "colab": {
          "base_uri": "https://localhost:8080/",
          "height": 72
        }
      },
      "source": [
        "import gensim\n",
        "WORD2VEC_MODEL = \"GoogleNews-vectors-negative300.bin.gz\"\n",
        "#load word2vec model\n",
        "word2vec = gensim.models.KeyedVectors.load_word2vec_format(WORD2VEC_MODEL, binary=True, limit=100000)"
      ],
      "execution_count": 0,
      "outputs": [
        {
          "output_type": "stream",
          "text": [
            "/usr/local/lib/python3.6/dist-packages/smart_open/smart_open_lib.py:253: UserWarning: This function is deprecated, use smart_open.open instead. See the migration notes for details: https://github.com/RaRe-Technologies/smart_open/blob/master/README.rst#migrating-to-the-new-open-function\n",
            "  'See the migration notes for details: %s' % _MIGRATION_NOTES_URL\n"
          ],
          "name": "stderr"
        }
      ]
    },
    {
      "cell_type": "code",
      "metadata": {
        "id": "HAd1a2SGDshN",
        "colab_type": "code",
        "colab": {}
      },
      "source": [
        "embedding_weights = np.zeros((vocab_size, embedding_dim))\n",
        "for word, index in tokenizer.word_index.items():\n",
        "    #embedding_vector = word2vec.get(word)\n",
        "    try:\n",
        "        embedding_weights[index] = word2vec[word]\n",
        "    except:\n",
        "        pass "
      ],
      "execution_count": 0,
      "outputs": []
    },
    {
      "cell_type": "code",
      "metadata": {
        "id": "AUT8zrXx1tVd",
        "colab_type": "code",
        "outputId": "94f5dbb1-4bcd-4ecf-e75c-a9c1abe89a22",
        "colab": {
          "base_uri": "https://localhost:8080/",
          "height": 364
        }
      },
      "source": [
        "model = tf.keras.Sequential([\n",
        "                               tf.keras.layers.Embedding(vocab_size,embedding_dim,input_length=max_len, weights = [embedding_weights], trainable = False),\n",
        "                               tf.keras.layers.Bidirectional(tf.keras.layers.LSTM(128, return_sequences=True, dropout=0.5)),\n",
        "                               tf.keras.layers.LSTM(64, return_sequences=False, dropout=0.5),                               \n",
        "                               tf.keras.layers.Dense(128,activation='relu'),\n",
        "                               tf.keras.layers.Dense(64,activation='relu'),                                                                                                        \n",
        "                               tf.keras.layers.Dense(1, activation='sigmoid')                               \n",
        "])\n",
        "\n",
        "model.compile(loss='binary_crossentropy',optimizer = 'adam', metrics = ['accuracy'])\n",
        "model.summary()"
      ],
      "execution_count": 0,
      "outputs": [
        {
          "output_type": "stream",
          "text": [
            "Model: \"sequential_1\"\n",
            "_________________________________________________________________\n",
            "Layer (type)                 Output Shape              Param #   \n",
            "=================================================================\n",
            "embedding_1 (Embedding)      (None, 150, 300)          3000000   \n",
            "_________________________________________________________________\n",
            "bidirectional_1 (Bidirection (None, 150, 256)          439296    \n",
            "_________________________________________________________________\n",
            "lstm_3 (LSTM)                (None, 64)                82176     \n",
            "_________________________________________________________________\n",
            "dense_3 (Dense)              (None, 128)               8320      \n",
            "_________________________________________________________________\n",
            "dense_4 (Dense)              (None, 64)                8256      \n",
            "_________________________________________________________________\n",
            "dense_5 (Dense)              (None, 1)                 65        \n",
            "=================================================================\n",
            "Total params: 3,538,113\n",
            "Trainable params: 538,113\n",
            "Non-trainable params: 3,000,000\n",
            "_________________________________________________________________\n"
          ],
          "name": "stdout"
        }
      ]
    },
    {
      "cell_type": "code",
      "metadata": {
        "id": "0ajyzl522_Ed",
        "colab_type": "code",
        "outputId": "f431f6ce-1017-436a-fd97-0bf7673f28b3",
        "colab": {
          "base_uri": "https://localhost:8080/",
          "height": 1000
        }
      },
      "source": [
        "epochs = 30\n",
        "h_1 = model.fit(padded,train_labels,epochs = epochs, batch_size= 64, validation_data=(val_padded,val_labels), validation_batch_size=16) \n",
        "\n",
        "f,a = plt.subplots(1,2,figsize = (15,5))\n",
        "a[0].plot(range(epochs),h_1.history['accuracy'], 'g')\n",
        "a[0].plot(range(epochs),h_1.history['val_accuracy'], 'r')\n",
        "\n",
        "\n",
        "a[1].plot(range(epochs),h_1.history['loss'], 'g')\n",
        "a[1].plot(range(epochs),h_1.history['val_loss'], 'r')        "
      ],
      "execution_count": 0,
      "outputs": [
        {
          "output_type": "stream",
          "text": [
            "Epoch 1/30\n",
            "625/625 [==============================] - 26s 42ms/step - loss: 0.6251 - accuracy: 0.6385 - val_loss: 0.6822 - val_accuracy: 0.5578\n",
            "Epoch 2/30\n",
            "625/625 [==============================] - 26s 41ms/step - loss: 0.6064 - accuracy: 0.6662 - val_loss: 0.4475 - val_accuracy: 0.8029\n",
            "Epoch 3/30\n",
            "625/625 [==============================] - 26s 41ms/step - loss: 0.4695 - accuracy: 0.7801 - val_loss: 0.4228 - val_accuracy: 0.8200\n",
            "Epoch 4/30\n",
            "625/625 [==============================] - 26s 41ms/step - loss: 0.4031 - accuracy: 0.8167 - val_loss: 0.3578 - val_accuracy: 0.8378\n",
            "Epoch 5/30\n",
            "625/625 [==============================] - 26s 41ms/step - loss: 0.3673 - accuracy: 0.8336 - val_loss: 0.3461 - val_accuracy: 0.8472\n",
            "Epoch 6/30\n",
            "625/625 [==============================] - 26s 41ms/step - loss: 0.3517 - accuracy: 0.8416 - val_loss: 0.3819 - val_accuracy: 0.8235\n",
            "Epoch 7/30\n",
            "625/625 [==============================] - 26s 41ms/step - loss: 0.3415 - accuracy: 0.8451 - val_loss: 0.3270 - val_accuracy: 0.8591\n",
            "Epoch 8/30\n",
            "625/625 [==============================] - 26s 41ms/step - loss: 0.3276 - accuracy: 0.8544 - val_loss: 0.3111 - val_accuracy: 0.8620\n",
            "Epoch 9/30\n",
            "625/625 [==============================] - 26s 41ms/step - loss: 0.3177 - accuracy: 0.8599 - val_loss: 0.3056 - val_accuracy: 0.8682\n",
            "Epoch 10/30\n",
            "625/625 [==============================] - 26s 41ms/step - loss: 0.3102 - accuracy: 0.8630 - val_loss: 0.3103 - val_accuracy: 0.8682\n",
            "Epoch 11/30\n",
            "625/625 [==============================] - 26s 41ms/step - loss: 0.3022 - accuracy: 0.8666 - val_loss: 0.3031 - val_accuracy: 0.8692\n",
            "Epoch 12/30\n",
            "625/625 [==============================] - 26s 41ms/step - loss: 0.2887 - accuracy: 0.8753 - val_loss: 0.3005 - val_accuracy: 0.8712\n",
            "Epoch 13/30\n",
            "625/625 [==============================] - 26s 41ms/step - loss: 0.2799 - accuracy: 0.8785 - val_loss: 0.2968 - val_accuracy: 0.8742\n",
            "Epoch 14/30\n",
            "625/625 [==============================] - 26s 42ms/step - loss: 0.2718 - accuracy: 0.8830 - val_loss: 0.2962 - val_accuracy: 0.8778\n",
            "Epoch 15/30\n",
            "625/625 [==============================] - 26s 41ms/step - loss: 0.2637 - accuracy: 0.8873 - val_loss: 0.2921 - val_accuracy: 0.8778\n",
            "Epoch 16/30\n",
            "625/625 [==============================] - 26s 41ms/step - loss: 0.2534 - accuracy: 0.8919 - val_loss: 0.3135 - val_accuracy: 0.8761\n",
            "Epoch 17/30\n",
            "625/625 [==============================] - 26s 41ms/step - loss: 0.2482 - accuracy: 0.8938 - val_loss: 0.2977 - val_accuracy: 0.8815\n",
            "Epoch 18/30\n",
            "625/625 [==============================] - 26s 41ms/step - loss: 0.2392 - accuracy: 0.8979 - val_loss: 0.2970 - val_accuracy: 0.8785\n",
            "Epoch 19/30\n",
            "625/625 [==============================] - 26s 42ms/step - loss: 0.2304 - accuracy: 0.9017 - val_loss: 0.2870 - val_accuracy: 0.8772\n",
            "Epoch 20/30\n",
            "625/625 [==============================] - 26s 41ms/step - loss: 0.2206 - accuracy: 0.9075 - val_loss: 0.3023 - val_accuracy: 0.8824\n",
            "Epoch 21/30\n",
            "625/625 [==============================] - 26s 42ms/step - loss: 0.2127 - accuracy: 0.9103 - val_loss: 0.2968 - val_accuracy: 0.8782\n",
            "Epoch 22/30\n",
            "625/625 [==============================] - 26s 41ms/step - loss: 0.2080 - accuracy: 0.9131 - val_loss: 0.3124 - val_accuracy: 0.8790\n",
            "Epoch 23/30\n",
            "625/625 [==============================] - 26s 41ms/step - loss: 0.2021 - accuracy: 0.9143 - val_loss: 0.3088 - val_accuracy: 0.8793\n",
            "Epoch 24/30\n",
            "625/625 [==============================] - 26s 41ms/step - loss: 0.1945 - accuracy: 0.9182 - val_loss: 0.3424 - val_accuracy: 0.8682\n",
            "Epoch 25/30\n",
            "625/625 [==============================] - 26s 41ms/step - loss: 0.1877 - accuracy: 0.9229 - val_loss: 0.3325 - val_accuracy: 0.8751\n",
            "Epoch 26/30\n",
            "625/625 [==============================] - 26s 41ms/step - loss: 0.1820 - accuracy: 0.9234 - val_loss: 0.3176 - val_accuracy: 0.8771\n",
            "Epoch 27/30\n",
            "625/625 [==============================] - 26s 41ms/step - loss: 0.1734 - accuracy: 0.9288 - val_loss: 0.3251 - val_accuracy: 0.8815\n",
            "Epoch 28/30\n",
            "625/625 [==============================] - 26s 41ms/step - loss: 0.1667 - accuracy: 0.9302 - val_loss: 0.3195 - val_accuracy: 0.8756\n",
            "Epoch 29/30\n",
            "625/625 [==============================] - 26s 41ms/step - loss: 0.1613 - accuracy: 0.9330 - val_loss: 0.3481 - val_accuracy: 0.8801\n",
            "Epoch 30/30\n",
            "625/625 [==============================] - 26s 41ms/step - loss: 0.1570 - accuracy: 0.9357 - val_loss: 0.3530 - val_accuracy: 0.8811\n"
          ],
          "name": "stdout"
        },
        {
          "output_type": "execute_result",
          "data": {
            "text/plain": [
              "[<matplotlib.lines.Line2D at 0x7f9d1df79898>]"
            ]
          },
          "metadata": {
            "tags": []
          },
          "execution_count": 23
        },
        {
          "output_type": "display_data",
          "data": {
            "image/png": "[encoded data removed]",
            "text/plain": [
              "<Figure size 1080x360 with 2 Axes>"
            ]
          },
          "metadata": {
            "tags": [],
            "needs_background": "light"
          }
        }
      ]
    },
    {
      "cell_type": "code",
      "metadata": {
        "id": "GJ-vX1j0OV8j",
        "colab_type": "code",
        "colab": {}
      },
      "source": [
        "model.save('sentiment_version_2.h5')"
      ],
      "execution_count": 0,
      "outputs": []
    },
    {
      "cell_type": "code",
      "metadata": {
        "id": "QgVdUCWyO02F",
        "colab_type": "code",
        "colab": {}
      },
      "source": [
        "tokenizer_json = tokenizer.to_json()\n",
        "with io.open('tokenizer_version_2.json', 'w', encoding='utf-8') as f:\n",
        "    f.write(json.dumps(tokenizer_json, ensure_ascii=False))"
      ],
      "execution_count": 0,
      "outputs": []
    },
    {
      "cell_type": "code",
      "metadata": {
        "id": "z7izHdptPjno",
        "colab_type": "code",
        "outputId": "01aae4df-7e19-4776-8839-9be2e4c50aff",
        "colab": {
          "base_uri": "https://localhost:8080/",
          "height": 52
        }
      },
      "source": [
        "from tensorflow.keras.preprocessing.text import tokenizer_from_json\n",
        "import re\n",
        "from tensorflow.keras.models import  load_model\n",
        "import json\n",
        "from tensorflow.keras.preprocessing.sequence import pad_sequences\n",
        "\n",
        "\n",
        "with open('tokenizer_version_2.json') as f:\n",
        "    data = json.load(f)\n",
        "    tokenizer = tokenizer_from_json(data)\n",
        "\n",
        "senti_model = load_model(\"sentiment_version_2.h5\")\n",
        "max_len = 150\n",
        "trunc_type = 'post'\n",
        "padding = 'post'\n",
        "\n",
        "def clean_text(text):  \n",
        "    \n",
        "    text = text.lower()\n",
        "    text = re.sub(r\"i'm\", \"i am\", text)\n",
        "    text = re.sub(r\"books\", \"movies\", text)\n",
        "    text = re.sub(r\"book\", \"movie\", text)\n",
        "    text = re.sub(r\"read\", \"watch\", text)\n",
        "    text = re.sub(r\"pages\", \"plots\", text)\n",
        "    text = re.sub(r\"author\", \"story writer\", text)\n",
        "    text = re.sub(r\"written\", \"directed\", text)\n",
        "    text = re.sub(r\"ordered\", \"booked ticket\", text)    \n",
        "    text = re.sub(r\"reading\", \"watching\", text)\n",
        "    text = re.sub(r\"he's\", \"he is\", text)\n",
        "    text = re.sub(r\"she's\", \"she is\", text)\n",
        "    text = re.sub(r\"that's\", \"that is\", text)        \n",
        "    text = re.sub(r\"what's\", \"what is\", text)\n",
        "    text = re.sub(r\"where's\", \"where is\", text) \n",
        "    text = re.sub(r\"\\'ll\", \" will\", text)  \n",
        "    text = re.sub(r\"\\'ve\", \" have\", text)  \n",
        "    text = re.sub(r\"\\'re\", \" are\", text)\n",
        "    text = re.sub(r\"\\'d\", \" would\", text)\n",
        "    text = re.sub(r\"\\'ve\", \" have\", text)\n",
        "    text = re.sub(r\"won't\", \"will not\", text)\n",
        "    text = re.sub(r\"don't\", \"do not\", text)\n",
        "    text = re.sub(r\"did't\", \"did not\", text)\n",
        "    text = re.sub(r\"can't\", \"can not\", text)\n",
        "    text = re.sub(r\"it's\", \"it is\", text)\n",
        "    text = re.sub(r\"couldn't\", \"could not\", text)\n",
        "    text = re.sub(r\"have't\", \"have not\", text)\n",
        "    text = re.sub(r\"[,.\\\"\\'!@#$%^&*(){}?/;`~:<>+=-]\", \"\", text)\n",
        "    return text\n",
        "\n",
        "def CleanTokenize(l):\n",
        "    cleaned_sentences = []   \n",
        "    for line in l:\n",
        "        line = clean_text(str(line))               \n",
        "        cleaned_sentences.append(line)\n",
        "    return cleaned_sentences\n",
        "\n",
        "review = [input(str(\"Give your reviews: \"))]\n",
        "cleaned_review = CleanTokenize(review)\n",
        "\n",
        "\n",
        "test_sequences = tokenizer.texts_to_sequences(cleaned_review)\n",
        "test_padded = pad_sequences(test_sequences,maxlen=max_len, padding=padding)\n",
        "\n",
        "def sentiment(test_padded):\n",
        "    prob = senti_model.predict(test_padded)[0]\n",
        "    return prob\n",
        "print(sentiment(test_padded))"
      ],
      "execution_count": 0,
      "outputs": [
        {
          "output_type": "stream",
          "text": [
            "Give your reviews: I liked the movie\n",
            "[0.9950446]\n"
          ],
          "name": "stdout"
        }
      ]
    },
    {
      "cell_type": "code",
      "metadata": {
        "id": "nXjQae0MTkh-",
        "colab_type": "code",
        "outputId": "e2145595-565b-42f4-d4bc-ac0a06f0f159",
        "colab": {
          "base_uri": "https://localhost:8080/",
          "height": 104
        }
      },
      "source": [
        "ls"
      ],
      "execution_count": 0,
      "outputs": [
        {
          "output_type": "stream",
          "text": [
            " download.zip                            sentiment.h5\n",
            " GoogleNews-vectors-negative300.bin.gz   sentiment_version_2.h5\n",
            "'IMDB Dataset.csv'                       tokenizer.json\n",
            " Movie_Review.ipynb                      tokenizer_version_2.json\n",
            " Movie_Reviews_2.ipynb\n"
          ],
          "name": "stdout"
        }
      ]
    }
  ]
}